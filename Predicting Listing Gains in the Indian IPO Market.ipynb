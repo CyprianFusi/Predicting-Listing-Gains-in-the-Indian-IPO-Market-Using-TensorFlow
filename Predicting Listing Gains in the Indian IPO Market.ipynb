{
 "cells": [
  {
   "cell_type": "markdown",
   "metadata": {},
   "source": [
    "# Predicting Listing Gains in the Indian IPO Market Using TensorFlow\n",
    "## The Task\n",
    "An investment firm that is interested in investing in the **Initial Public Offerings (IPO)** in the Indian market. You have been hired as a data scientist to build a deep learning **classification model to determine if there will be listing gains for the IPO**.\n",
    "\n",
    "    Listing gains are the percentage increase in the share price of a company from its IPO issue price on the day of listing\n",
    "    \n",
    "### The Dataset\n",
    "The dataset provided for this project (`Indian_IPO_Market_Data.csv`) contains information on past IPOs in the Indian market can be downloaded from [moneycontrol](https://www.moneycontrol.com/ipo/ipo-historic-table?classic=true).\n",
    "\n",
    "### Load and Explore the dataset"
   ]
  },
  {
   "cell_type": "code",
   "execution_count": 1,
   "metadata": {},
   "outputs": [],
   "source": [
    "import numpy as np \n",
    "import pandas as pd \n",
    "import seaborn as sns\n",
    "import matplotlib.pyplot as plt\n",
    "import tensorflow as tf\n",
    "\n",
    "from tensorflow import keras\n",
    "from tensorflow.keras import layers\n",
    "from sklearn.model_selection import train_test_split"
   ]
  },
  {
   "cell_type": "code",
   "execution_count": 2,
   "metadata": {},
   "outputs": [
    {
     "name": "stdout",
     "output_type": "stream",
     "text": [
      "(319, 9)\n"
     ]
    },
    {
     "data": {
      "text/html": [
       "<div>\n",
       "<style scoped>\n",
       "    .dataframe tbody tr th:only-of-type {\n",
       "        vertical-align: middle;\n",
       "    }\n",
       "\n",
       "    .dataframe tbody tr th {\n",
       "        vertical-align: top;\n",
       "    }\n",
       "\n",
       "    .dataframe thead th {\n",
       "        text-align: right;\n",
       "    }\n",
       "</style>\n",
       "<table border=\"1\" class=\"dataframe\">\n",
       "  <thead>\n",
       "    <tr style=\"text-align: right;\">\n",
       "      <th></th>\n",
       "      <th>Date</th>\n",
       "      <th>IPOName</th>\n",
       "      <th>Issue_Size</th>\n",
       "      <th>Subscription_QIB</th>\n",
       "      <th>Subscription_HNI</th>\n",
       "      <th>Subscription_RII</th>\n",
       "      <th>Subscription_Total</th>\n",
       "      <th>Issue_Price</th>\n",
       "      <th>Listing_Gains_Percent</th>\n",
       "    </tr>\n",
       "  </thead>\n",
       "  <tbody>\n",
       "    <tr>\n",
       "      <th>0</th>\n",
       "      <td>03/02/10</td>\n",
       "      <td>Infinite Comp</td>\n",
       "      <td>189.80</td>\n",
       "      <td>48.44</td>\n",
       "      <td>106.02</td>\n",
       "      <td>11.08</td>\n",
       "      <td>43.22</td>\n",
       "      <td>165</td>\n",
       "      <td>11.82</td>\n",
       "    </tr>\n",
       "    <tr>\n",
       "      <th>1</th>\n",
       "      <td>08/02/10</td>\n",
       "      <td>Jubilant Food</td>\n",
       "      <td>328.70</td>\n",
       "      <td>59.39</td>\n",
       "      <td>51.95</td>\n",
       "      <td>3.79</td>\n",
       "      <td>31.11</td>\n",
       "      <td>145</td>\n",
       "      <td>-84.21</td>\n",
       "    </tr>\n",
       "    <tr>\n",
       "      <th>2</th>\n",
       "      <td>15/02/10</td>\n",
       "      <td>Syncom Health</td>\n",
       "      <td>56.25</td>\n",
       "      <td>0.99</td>\n",
       "      <td>16.60</td>\n",
       "      <td>6.25</td>\n",
       "      <td>5.17</td>\n",
       "      <td>75</td>\n",
       "      <td>17.13</td>\n",
       "    </tr>\n",
       "    <tr>\n",
       "      <th>3</th>\n",
       "      <td>15/02/10</td>\n",
       "      <td>Vascon Engineer</td>\n",
       "      <td>199.80</td>\n",
       "      <td>1.12</td>\n",
       "      <td>3.65</td>\n",
       "      <td>0.62</td>\n",
       "      <td>1.22</td>\n",
       "      <td>165</td>\n",
       "      <td>-11.28</td>\n",
       "    </tr>\n",
       "    <tr>\n",
       "      <th>4</th>\n",
       "      <td>19/02/10</td>\n",
       "      <td>Thangamayil</td>\n",
       "      <td>0.00</td>\n",
       "      <td>0.52</td>\n",
       "      <td>1.52</td>\n",
       "      <td>2.26</td>\n",
       "      <td>1.12</td>\n",
       "      <td>75</td>\n",
       "      <td>-5.20</td>\n",
       "    </tr>\n",
       "  </tbody>\n",
       "</table>\n",
       "</div>"
      ],
      "text/plain": [
       "      Date           IPOName  Issue_Size  Subscription_QIB  Subscription_HNI  \\\n",
       "0  03/02/10    Infinite Comp      189.80             48.44            106.02   \n",
       "1  08/02/10    Jubilant Food      328.70             59.39             51.95   \n",
       "2  15/02/10    Syncom Health       56.25              0.99             16.60   \n",
       "3  15/02/10  Vascon Engineer      199.80              1.12              3.65   \n",
       "4  19/02/10      Thangamayil        0.00              0.52              1.52   \n",
       "\n",
       "   Subscription_RII  Subscription_Total  Issue_Price  Listing_Gains_Percent  \n",
       "0             11.08               43.22          165                  11.82  \n",
       "1              3.79               31.11          145                 -84.21  \n",
       "2              6.25                5.17           75                  17.13  \n",
       "3              0.62                1.22          165                 -11.28  \n",
       "4              2.26                1.12           75                  -5.20  "
      ]
     },
     "execution_count": 2,
     "metadata": {},
     "output_type": "execute_result"
    }
   ],
   "source": [
    "df = pd.read_csv('./data/Indian_IPO_Market_Data.csv')\n",
    "print(df.shape)\n",
    "df.head()"
   ]
  },
  {
   "cell_type": "markdown",
   "metadata": {},
   "source": [
    "**The data consists of following columns:**\n",
    "\n",
    "* `Date`: date when the IPO was listed\n",
    "\n",
    "* `IPOName`: name of the IPO\n",
    "\n",
    "* `Issue_Size`: size of the IPO issue, in INR Crores\n",
    "\n",
    "* `Subscription_QIB`: number of times the IPO was subscribed by the QIB (Qualified Institutional Buyer) investor category\n",
    "\n",
    "* `Subscription_HNI`: number of times the IPO was subscribed by the HNI (High Networth Individual) investor category\n",
    "\n",
    "* `Subscription_RII`: number of times the IPO was subscribed by the RII (Retail Individual Investors) investor category\n",
    "\n",
    "* `Subscription_Total`: total number of times the IPO was subscribed overall\n",
    "\n",
    "* `Issue_Price`: the price in INR at which the IPO was issued\n",
    "\n",
    "* `Listing_Gains_Percent`: is the percentage gain in the listing price over the issue price"
   ]
  },
  {
   "cell_type": "code",
   "execution_count": 3,
   "metadata": {},
   "outputs": [
    {
     "name": "stdout",
     "output_type": "stream",
     "text": [
      "<class 'pandas.core.frame.DataFrame'>\n",
      "RangeIndex: 319 entries, 0 to 318\n",
      "Data columns (total 9 columns):\n",
      " #   Column                 Non-Null Count  Dtype  \n",
      "---  ------                 --------------  -----  \n",
      " 0   Date                   319 non-null    object \n",
      " 1   IPOName                319 non-null    object \n",
      " 2   Issue_Size             319 non-null    float64\n",
      " 3   Subscription_QIB       319 non-null    float64\n",
      " 4   Subscription_HNI       319 non-null    float64\n",
      " 5   Subscription_RII       319 non-null    float64\n",
      " 6   Subscription_Total     319 non-null    float64\n",
      " 7   Issue_Price            319 non-null    int64  \n",
      " 8   Listing_Gains_Percent  319 non-null    float64\n",
      "dtypes: float64(6), int64(1), object(2)\n",
      "memory usage: 22.6+ KB\n"
     ]
    }
   ],
   "source": [
    "df.info()"
   ]
  },
  {
   "cell_type": "markdown",
   "metadata": {},
   "source": [
    "**The dataset contains `319` observation with no missing values, as confirmed below**."
   ]
  },
  {
   "cell_type": "code",
   "execution_count": 4,
   "metadata": {},
   "outputs": [
    {
     "name": "stdout",
     "output_type": "stream",
     "text": [
      "Columns with missing values:\n",
      "Series([], dtype: int64)\n"
     ]
    }
   ],
   "source": [
    "z = df.isnull().sum()\n",
    "print(f'Columns with missing values:\\n{z[z > 0]}')"
   ]
  },
  {
   "cell_type": "code",
   "execution_count": 5,
   "metadata": {},
   "outputs": [
    {
     "data": {
      "text/html": [
       "<div>\n",
       "<style scoped>\n",
       "    .dataframe tbody tr th:only-of-type {\n",
       "        vertical-align: middle;\n",
       "    }\n",
       "\n",
       "    .dataframe tbody tr th {\n",
       "        vertical-align: top;\n",
       "    }\n",
       "\n",
       "    .dataframe thead th {\n",
       "        text-align: right;\n",
       "    }\n",
       "</style>\n",
       "<table border=\"1\" class=\"dataframe\">\n",
       "  <thead>\n",
       "    <tr style=\"text-align: right;\">\n",
       "      <th></th>\n",
       "      <th>Date</th>\n",
       "      <th>IPOName</th>\n",
       "      <th>Issue_Size</th>\n",
       "      <th>Subscription_QIB</th>\n",
       "      <th>Subscription_HNI</th>\n",
       "      <th>Subscription_RII</th>\n",
       "      <th>Subscription_Total</th>\n",
       "      <th>Issue_Price</th>\n",
       "      <th>Listing_Gains_Percent</th>\n",
       "    </tr>\n",
       "  </thead>\n",
       "  <tbody>\n",
       "    <tr>\n",
       "      <th>count</th>\n",
       "      <td>319</td>\n",
       "      <td>319</td>\n",
       "      <td>319.0</td>\n",
       "      <td>319.0</td>\n",
       "      <td>319.0</td>\n",
       "      <td>319.0</td>\n",
       "      <td>319.0</td>\n",
       "      <td>319.0</td>\n",
       "      <td>319.0</td>\n",
       "    </tr>\n",
       "    <tr>\n",
       "      <th>unique</th>\n",
       "      <td>287</td>\n",
       "      <td>319</td>\n",
       "      <td>-</td>\n",
       "      <td>-</td>\n",
       "      <td>-</td>\n",
       "      <td>-</td>\n",
       "      <td>-</td>\n",
       "      <td>-</td>\n",
       "      <td>-</td>\n",
       "    </tr>\n",
       "    <tr>\n",
       "      <th>top</th>\n",
       "      <td>16/08/21</td>\n",
       "      <td>Infinite Comp</td>\n",
       "      <td>-</td>\n",
       "      <td>-</td>\n",
       "      <td>-</td>\n",
       "      <td>-</td>\n",
       "      <td>-</td>\n",
       "      <td>-</td>\n",
       "      <td>-</td>\n",
       "    </tr>\n",
       "    <tr>\n",
       "      <th>freq</th>\n",
       "      <td>4</td>\n",
       "      <td>1</td>\n",
       "      <td>-</td>\n",
       "      <td>-</td>\n",
       "      <td>-</td>\n",
       "      <td>-</td>\n",
       "      <td>-</td>\n",
       "      <td>-</td>\n",
       "      <td>-</td>\n",
       "    </tr>\n",
       "    <tr>\n",
       "      <th>mean</th>\n",
       "      <td>-</td>\n",
       "      <td>-</td>\n",
       "      <td>1192.859969</td>\n",
       "      <td>25.684138</td>\n",
       "      <td>70.091379</td>\n",
       "      <td>8.561599</td>\n",
       "      <td>27.447147</td>\n",
       "      <td>375.128527</td>\n",
       "      <td>4.742696</td>\n",
       "    </tr>\n",
       "    <tr>\n",
       "      <th>std</th>\n",
       "      <td>-</td>\n",
       "      <td>-</td>\n",
       "      <td>2384.643786</td>\n",
       "      <td>40.716782</td>\n",
       "      <td>142.454416</td>\n",
       "      <td>14.50867</td>\n",
       "      <td>48.772203</td>\n",
       "      <td>353.897614</td>\n",
       "      <td>47.650946</td>\n",
       "    </tr>\n",
       "    <tr>\n",
       "      <th>min</th>\n",
       "      <td>-</td>\n",
       "      <td>-</td>\n",
       "      <td>0.0</td>\n",
       "      <td>0.0</td>\n",
       "      <td>0.0</td>\n",
       "      <td>0.0</td>\n",
       "      <td>0.0</td>\n",
       "      <td>0.0</td>\n",
       "      <td>-97.15</td>\n",
       "    </tr>\n",
       "    <tr>\n",
       "      <th>25%</th>\n",
       "      <td>-</td>\n",
       "      <td>-</td>\n",
       "      <td>169.005</td>\n",
       "      <td>1.15</td>\n",
       "      <td>1.255</td>\n",
       "      <td>1.275</td>\n",
       "      <td>1.645</td>\n",
       "      <td>119.0</td>\n",
       "      <td>-11.555</td>\n",
       "    </tr>\n",
       "    <tr>\n",
       "      <th>50%</th>\n",
       "      <td>-</td>\n",
       "      <td>-</td>\n",
       "      <td>496.25</td>\n",
       "      <td>4.94</td>\n",
       "      <td>5.07</td>\n",
       "      <td>3.42</td>\n",
       "      <td>4.93</td>\n",
       "      <td>250.0</td>\n",
       "      <td>1.81</td>\n",
       "    </tr>\n",
       "    <tr>\n",
       "      <th>75%</th>\n",
       "      <td>-</td>\n",
       "      <td>-</td>\n",
       "      <td>1100.0</td>\n",
       "      <td>34.635</td>\n",
       "      <td>62.095</td>\n",
       "      <td>8.605</td>\n",
       "      <td>33.395</td>\n",
       "      <td>536.0</td>\n",
       "      <td>25.31</td>\n",
       "    </tr>\n",
       "    <tr>\n",
       "      <th>max</th>\n",
       "      <td>-</td>\n",
       "      <td>-</td>\n",
       "      <td>21000.0</td>\n",
       "      <td>215.45</td>\n",
       "      <td>958.07</td>\n",
       "      <td>119.44</td>\n",
       "      <td>326.49</td>\n",
       "      <td>2150.0</td>\n",
       "      <td>270.4</td>\n",
       "    </tr>\n",
       "  </tbody>\n",
       "</table>\n",
       "</div>"
      ],
      "text/plain": [
       "           Date         IPOName   Issue_Size Subscription_QIB  \\\n",
       "count        319            319        319.0            319.0   \n",
       "unique       287            319            -                -   \n",
       "top     16/08/21  Infinite Comp            -                -   \n",
       "freq           4              1            -                -   \n",
       "mean           -              -  1192.859969        25.684138   \n",
       "std            -              -  2384.643786        40.716782   \n",
       "min            -              -          0.0              0.0   \n",
       "25%            -              -      169.005             1.15   \n",
       "50%            -              -       496.25             4.94   \n",
       "75%            -              -       1100.0           34.635   \n",
       "max            -              -      21000.0           215.45   \n",
       "\n",
       "       Subscription_HNI Subscription_RII Subscription_Total Issue_Price  \\\n",
       "count             319.0            319.0              319.0       319.0   \n",
       "unique                -                -                  -           -   \n",
       "top                   -                -                  -           -   \n",
       "freq                  -                -                  -           -   \n",
       "mean          70.091379         8.561599          27.447147  375.128527   \n",
       "std          142.454416         14.50867          48.772203  353.897614   \n",
       "min                 0.0              0.0                0.0         0.0   \n",
       "25%               1.255            1.275              1.645       119.0   \n",
       "50%                5.07             3.42               4.93       250.0   \n",
       "75%              62.095            8.605             33.395       536.0   \n",
       "max              958.07           119.44             326.49      2150.0   \n",
       "\n",
       "       Listing_Gains_Percent  \n",
       "count                  319.0  \n",
       "unique                     -  \n",
       "top                        -  \n",
       "freq                       -  \n",
       "mean                4.742696  \n",
       "std                47.650946  \n",
       "min                   -97.15  \n",
       "25%                  -11.555  \n",
       "50%                     1.81  \n",
       "75%                    25.31  \n",
       "max                    270.4  "
      ]
     },
     "execution_count": 5,
     "metadata": {},
     "output_type": "execute_result"
    }
   ],
   "source": [
    "import warnings\n",
    "warnings.filterwarnings('ignore')\n",
    "\n",
    "df.describe(include = 'all').fillna('-')"
   ]
  },
  {
   "cell_type": "code",
   "execution_count": 6,
   "metadata": {},
   "outputs": [
    {
     "data": {
      "text/plain": [
       "count    319.000000\n",
       "mean       4.742696\n",
       "std       47.650946\n",
       "min      -97.150000\n",
       "25%      -11.555000\n",
       "50%        1.810000\n",
       "75%       25.310000\n",
       "max      270.400000\n",
       "Name: Listing_Gains_Percent, dtype: float64"
      ]
     },
     "execution_count": 6,
     "metadata": {},
     "output_type": "execute_result"
    }
   ],
   "source": [
    "df['Listing_Gains_Percent'].describe()"
   ]
  },
  {
   "cell_type": "markdown",
   "metadata": {},
   "source": [
    "#### The target variable\n",
    "Our task is to train a deep learning **classification model**. However, the target variable, **Listing_Gains_Percent** is **continous**. Therfore, we will need to convert it into a **categorical** variable before we can proceed."
   ]
  },
  {
   "cell_type": "code",
   "execution_count": 7,
   "metadata": {},
   "outputs": [
    {
     "data": {
      "text/plain": [
       "Listing_Gains_Profit\n",
       "1    174\n",
       "0    145\n",
       "Name: count, dtype: int64"
      ]
     },
     "execution_count": 7,
     "metadata": {},
     "output_type": "execute_result"
    }
   ],
   "source": [
    "df['Listing_Gains_Profit'] = (df['Listing_Gains_Percent'] > 0).astype(int)\n",
    "df['Listing_Gains_Profit'].value_counts()"
   ]
  },
  {
   "cell_type": "code",
   "execution_count": 8,
   "metadata": {},
   "outputs": [
    {
     "data": {
      "text/plain": [
       "Listing_Gains_Profit\n",
       "1    0.545455\n",
       "0    0.454545\n",
       "Name: proportion, dtype: float64"
      ]
     },
     "execution_count": 8,
     "metadata": {},
     "output_type": "execute_result"
    }
   ],
   "source": [
    "df['Listing_Gains_Profit'].value_counts(normalize = True)"
   ]
  },
  {
   "cell_type": "markdown",
   "metadata": {},
   "source": [
    "**`55%`** of IPO are listed as **profit** while **`45%`** is listed as **loss**.\n",
    "\n",
    "**The categorical target variable (`Listing_Gains_Profit`) is relative balanced. We shall not have to worry about issues regarding imbalanced target.**\n",
    "\n",
    "The variable `IPOName` has 319 unique values. This means every observation is unique. The variable `IPOName` therefore won't contribute much is creating any pattern from which the model can learn. \n",
    "\n",
    "Similarly, the variable `Date` has `287` unique values and therefore won't help the model to learn any pattern. We will drop both `IPOName` and `Date` columns from the dataset.\n",
    "\n",
    "The `Listing_Gains_Percent` variable is now redundant and can be dropped from the dataset as well."
   ]
  },
  {
   "cell_type": "code",
   "execution_count": 9,
   "metadata": {},
   "outputs": [
    {
     "data": {
      "text/html": [
       "<div>\n",
       "<style scoped>\n",
       "    .dataframe tbody tr th:only-of-type {\n",
       "        vertical-align: middle;\n",
       "    }\n",
       "\n",
       "    .dataframe tbody tr th {\n",
       "        vertical-align: top;\n",
       "    }\n",
       "\n",
       "    .dataframe thead th {\n",
       "        text-align: right;\n",
       "    }\n",
       "</style>\n",
       "<table border=\"1\" class=\"dataframe\">\n",
       "  <thead>\n",
       "    <tr style=\"text-align: right;\">\n",
       "      <th></th>\n",
       "      <th>Issue_Size</th>\n",
       "      <th>Subscription_QIB</th>\n",
       "      <th>Subscription_HNI</th>\n",
       "      <th>Subscription_RII</th>\n",
       "      <th>Subscription_Total</th>\n",
       "      <th>Issue_Price</th>\n",
       "      <th>Listing_Gains_Profit</th>\n",
       "    </tr>\n",
       "  </thead>\n",
       "  <tbody>\n",
       "    <tr>\n",
       "      <th>0</th>\n",
       "      <td>189.80</td>\n",
       "      <td>48.44</td>\n",
       "      <td>106.02</td>\n",
       "      <td>11.08</td>\n",
       "      <td>43.22</td>\n",
       "      <td>165</td>\n",
       "      <td>1</td>\n",
       "    </tr>\n",
       "    <tr>\n",
       "      <th>1</th>\n",
       "      <td>328.70</td>\n",
       "      <td>59.39</td>\n",
       "      <td>51.95</td>\n",
       "      <td>3.79</td>\n",
       "      <td>31.11</td>\n",
       "      <td>145</td>\n",
       "      <td>0</td>\n",
       "    </tr>\n",
       "    <tr>\n",
       "      <th>2</th>\n",
       "      <td>56.25</td>\n",
       "      <td>0.99</td>\n",
       "      <td>16.60</td>\n",
       "      <td>6.25</td>\n",
       "      <td>5.17</td>\n",
       "      <td>75</td>\n",
       "      <td>1</td>\n",
       "    </tr>\n",
       "    <tr>\n",
       "      <th>3</th>\n",
       "      <td>199.80</td>\n",
       "      <td>1.12</td>\n",
       "      <td>3.65</td>\n",
       "      <td>0.62</td>\n",
       "      <td>1.22</td>\n",
       "      <td>165</td>\n",
       "      <td>0</td>\n",
       "    </tr>\n",
       "    <tr>\n",
       "      <th>4</th>\n",
       "      <td>0.00</td>\n",
       "      <td>0.52</td>\n",
       "      <td>1.52</td>\n",
       "      <td>2.26</td>\n",
       "      <td>1.12</td>\n",
       "      <td>75</td>\n",
       "      <td>0</td>\n",
       "    </tr>\n",
       "  </tbody>\n",
       "</table>\n",
       "</div>"
      ],
      "text/plain": [
       "   Issue_Size  Subscription_QIB  Subscription_HNI  Subscription_RII  \\\n",
       "0      189.80             48.44            106.02             11.08   \n",
       "1      328.70             59.39             51.95              3.79   \n",
       "2       56.25              0.99             16.60              6.25   \n",
       "3      199.80              1.12              3.65              0.62   \n",
       "4        0.00              0.52              1.52              2.26   \n",
       "\n",
       "   Subscription_Total  Issue_Price  Listing_Gains_Profit  \n",
       "0               43.22          165                     1  \n",
       "1               31.11          145                     0  \n",
       "2                5.17           75                     1  \n",
       "3                1.22          165                     0  \n",
       "4                1.12           75                     0  "
      ]
     },
     "execution_count": 9,
     "metadata": {},
     "output_type": "execute_result"
    }
   ],
   "source": [
    "df.drop(['Listing_Gains_Percent', 'Date ', 'IPOName'], axis = 1, inplace = True)\n",
    "df.head()"
   ]
  },
  {
   "cell_type": "markdown",
   "metadata": {},
   "source": [
    "### Data Visualization\n",
    "#### Target Variable"
   ]
  },
  {
   "cell_type": "code",
   "execution_count": 10,
   "metadata": {},
   "outputs": [
    {
     "data": {
      "image/png": "[encoded data removed]",
      "text/plain": [
       "<Figure size 640x480 with 1 Axes>"
      ]
     },
     "metadata": {},
     "output_type": "display_data"
    }
   ],
   "source": [
    "sns.countplot(x = 'Listing_Gains_Profit', data = df)\n",
    "plt.title('Distribution of Profitable and Non-Profitable IPO')\n",
    "plt.xlabel('Profit(1), Loss(0)')\n",
    "plt.ylabel('Frequency');"
   ]
  },
  {
   "cell_type": "markdown",
   "metadata": {},
   "source": [
    "### Using Box Plots to check for Outliers"
   ]
  },
  {
   "cell_type": "code",
   "execution_count": 11,
   "metadata": {},
   "outputs": [
    {
     "data": {
      "image/png": "[encoded data removed]",
      "text/plain": [
       "<Figure size 1500x600 with 1 Axes>"
      ]
     },
     "metadata": {},
     "output_type": "display_data"
    }
   ],
   "source": [
    "predictors = df.loc[:, list(df)[:-1]]\n",
    "predictors = predictors / predictors.max()\n",
    "predictors.plot(kind = 'box', figsize = (15, 6))\n",
    "plt.xticks(rotation = 90);"
   ]
  },
  {
   "cell_type": "markdown",
   "metadata": {},
   "source": [
    "**It can be seen that all the predictors have outliers on the high side!.**\n",
    "### Checking for collinearity between features"
   ]
  },
  {
   "cell_type": "code",
   "execution_count": 12,
   "metadata": {},
   "outputs": [
    {
     "data": {
      "text/html": [
       "<div>\n",
       "<style scoped>\n",
       "    .dataframe tbody tr th:only-of-type {\n",
       "        vertical-align: middle;\n",
       "    }\n",
       "\n",
       "    .dataframe tbody tr th {\n",
       "        vertical-align: top;\n",
       "    }\n",
       "\n",
       "    .dataframe thead th {\n",
       "        text-align: right;\n",
       "    }\n",
       "</style>\n",
       "<table border=\"1\" class=\"dataframe\">\n",
       "  <thead>\n",
       "    <tr style=\"text-align: right;\">\n",
       "      <th></th>\n",
       "      <th>Issue_Size</th>\n",
       "      <th>Subscription_QIB</th>\n",
       "      <th>Subscription_HNI</th>\n",
       "      <th>Subscription_RII</th>\n",
       "      <th>Subscription_Total</th>\n",
       "      <th>Issue_Price</th>\n",
       "    </tr>\n",
       "  </thead>\n",
       "  <tbody>\n",
       "    <tr>\n",
       "      <th>Issue_Size</th>\n",
       "      <td>1.000000</td>\n",
       "      <td>0.037724</td>\n",
       "      <td>0.103484</td>\n",
       "      <td>0.147791</td>\n",
       "      <td>0.093351</td>\n",
       "      <td>0.364733</td>\n",
       "    </tr>\n",
       "    <tr>\n",
       "      <th>Subscription_QIB</th>\n",
       "      <td>0.037724</td>\n",
       "      <td>1.000000</td>\n",
       "      <td>0.773933</td>\n",
       "      <td>0.437462</td>\n",
       "      <td>0.815785</td>\n",
       "      <td>0.188105</td>\n",
       "    </tr>\n",
       "    <tr>\n",
       "      <th>Subscription_HNI</th>\n",
       "      <td>0.103484</td>\n",
       "      <td>0.773933</td>\n",
       "      <td>1.000000</td>\n",
       "      <td>0.622993</td>\n",
       "      <td>0.954816</td>\n",
       "      <td>0.037283</td>\n",
       "    </tr>\n",
       "    <tr>\n",
       "      <th>Subscription_RII</th>\n",
       "      <td>0.147791</td>\n",
       "      <td>0.437462</td>\n",
       "      <td>0.622993</td>\n",
       "      <td>1.000000</td>\n",
       "      <td>0.718738</td>\n",
       "      <td>0.072112</td>\n",
       "    </tr>\n",
       "    <tr>\n",
       "      <th>Subscription_Total</th>\n",
       "      <td>0.093351</td>\n",
       "      <td>0.815785</td>\n",
       "      <td>0.954816</td>\n",
       "      <td>0.718738</td>\n",
       "      <td>1.000000</td>\n",
       "      <td>0.051174</td>\n",
       "    </tr>\n",
       "    <tr>\n",
       "      <th>Issue_Price</th>\n",
       "      <td>0.364733</td>\n",
       "      <td>0.188105</td>\n",
       "      <td>0.037283</td>\n",
       "      <td>0.072112</td>\n",
       "      <td>0.051174</td>\n",
       "      <td>1.000000</td>\n",
       "    </tr>\n",
       "  </tbody>\n",
       "</table>\n",
       "</div>"
      ],
      "text/plain": [
       "                    Issue_Size  Subscription_QIB  Subscription_HNI  \\\n",
       "Issue_Size            1.000000          0.037724          0.103484   \n",
       "Subscription_QIB      0.037724          1.000000          0.773933   \n",
       "Subscription_HNI      0.103484          0.773933          1.000000   \n",
       "Subscription_RII      0.147791          0.437462          0.622993   \n",
       "Subscription_Total    0.093351          0.815785          0.954816   \n",
       "Issue_Price           0.364733          0.188105          0.037283   \n",
       "\n",
       "                    Subscription_RII  Subscription_Total  Issue_Price  \n",
       "Issue_Size                  0.147791            0.093351     0.364733  \n",
       "Subscription_QIB            0.437462            0.815785     0.188105  \n",
       "Subscription_HNI            0.622993            0.954816     0.037283  \n",
       "Subscription_RII            1.000000            0.718738     0.072112  \n",
       "Subscription_Total          0.718738            1.000000     0.051174  \n",
       "Issue_Price                 0.072112            0.051174     1.000000  "
      ]
     },
     "execution_count": 12,
     "metadata": {},
     "output_type": "execute_result"
    }
   ],
   "source": [
    "correlation = predictors.corr().abs()\n",
    "correlation"
   ]
  },
  {
   "cell_type": "code",
   "execution_count": 13,
   "metadata": {},
   "outputs": [
    {
     "data": {
      "image/png": "[encoded data removed]",
      "text/plain": [
       "<Figure size 1500x600 with 2 Axes>"
      ]
     },
     "metadata": {},
     "output_type": "display_data"
    }
   ],
   "source": [
    "plt.figure(figsize = (15, 6))\n",
    "sns.heatmap(correlation, annot = True)\n",
    "plt.xticks(rotation = 90);"
   ]
  },
  {
   "cell_type": "markdown",
   "metadata": {},
   "source": [
    "The pearson's correlation between `Subscription_HNI` and `Subscription_Total` is `0.954816` which very high. These two columns would contribute similar information for the model to learn from. **One of them is therefore redundant and can be dropped as predictor**. \n",
    "\n",
    "**But since the correlation is not 1, we should probably still use it in the model, at least in the baseline model.**"
   ]
  },
  {
   "cell_type": "code",
   "execution_count": 14,
   "metadata": {},
   "outputs": [],
   "source": [
    "df.drop('Subscription_HNI', axis = 1, inplace = True)"
   ]
  },
  {
   "cell_type": "markdown",
   "metadata": {},
   "source": [
    "### Outlier Treatment\n",
    "#### Outlier Removal - Using IQR Value\n",
    "All data points that are within **`1.5 times of an interquartile range (IQR)`** from the **upper** and **lower quartiles** are \"normal\" and anything outside of that range should be considered an **outlier**.\n",
    "\n",
    "    q1 = df['column'].quantile(q = 0.25)\n",
    "    q3 = df['column'].quantile(q = 0.75)  \n",
    "    iqr = q3 - q1   \n",
    "    lower = (q1 - 1.5 * iqr) \n",
    "    upper = (q3 + 1.5 * iqr)\n",
    "    \n",
    "Once you have identified the **lower** and **upper bound**, it's easy to replace outliers with the **`clip()`** method:\n",
    "\n",
    "    df['column'].clip(lower, upper)\n",
    "    \n",
    "**The `.clip()` method assigns values outside boundary to boundary values.**\n",
    "#### Helper function to handle outliers"
   ]
  },
  {
   "cell_type": "code",
   "execution_count": 15,
   "metadata": {},
   "outputs": [],
   "source": [
    "def clip_outliers(col_name):\n",
    "    q1 = df[col_name].quantile(q = 0.25)\n",
    "    q3 = df[col_name].quantile(q = 0.75)  \n",
    "    iqr = q3 - q1   \n",
    "    lower = (q1 - 1.5 * iqr) \n",
    "    upper = (q3 + 1.5 * iqr)\n",
    "    return df[col_name].clip(lower, upper)"
   ]
  },
  {
   "cell_type": "code",
   "execution_count": 16,
   "metadata": {},
   "outputs": [],
   "source": [
    "cols = list(df)[:-1]\n",
    "for col in cols:\n",
    "    df[col] = clip_outliers(col)"
   ]
  },
  {
   "cell_type": "code",
   "execution_count": 17,
   "metadata": {},
   "outputs": [
    {
     "data": {
      "image/png": "[encoded data removed]",
      "text/plain": [
       "<Figure size 1500x600 with 1 Axes>"
      ]
     },
     "metadata": {},
     "output_type": "display_data"
    }
   ],
   "source": [
    "predictors = df.loc[:, list(df)[:-1]]\n",
    "predictors = predictors / predictors.max()\n",
    "predictors.plot(kind = 'box', figsize = (15, 6))\n",
    "plt.xticks(rotation = 90);"
   ]
  },
  {
   "cell_type": "markdown",
   "metadata": {},
   "source": [
    "**The outliers have been handled successfully.**\n",
    "### Setting the Target and Predictor Variables"
   ]
  },
  {
   "cell_type": "code",
   "execution_count": 18,
   "metadata": {},
   "outputs": [
    {
     "data": {
      "text/html": [
       "<div>\n",
       "<style scoped>\n",
       "    .dataframe tbody tr th:only-of-type {\n",
       "        vertical-align: middle;\n",
       "    }\n",
       "\n",
       "    .dataframe tbody tr th {\n",
       "        vertical-align: top;\n",
       "    }\n",
       "\n",
       "    .dataframe thead th {\n",
       "        text-align: right;\n",
       "    }\n",
       "</style>\n",
       "<table border=\"1\" class=\"dataframe\">\n",
       "  <thead>\n",
       "    <tr style=\"text-align: right;\">\n",
       "      <th></th>\n",
       "      <th>Issue_Size</th>\n",
       "      <th>Subscription_QIB</th>\n",
       "      <th>Subscription_RII</th>\n",
       "      <th>Subscription_Total</th>\n",
       "      <th>Issue_Price</th>\n",
       "    </tr>\n",
       "  </thead>\n",
       "  <tbody>\n",
       "    <tr>\n",
       "      <th>count</th>\n",
       "      <td>319.000000</td>\n",
       "      <td>319.000000</td>\n",
       "      <td>319.000000</td>\n",
       "      <td>319.000000</td>\n",
       "      <td>319.000000</td>\n",
       "    </tr>\n",
       "    <tr>\n",
       "      <th>mean</th>\n",
       "      <td>0.305854</td>\n",
       "      <td>0.253601</td>\n",
       "      <td>0.309232</td>\n",
       "      <td>0.252489</td>\n",
       "      <td>0.311793</td>\n",
       "    </tr>\n",
       "    <tr>\n",
       "      <th>std</th>\n",
       "      <td>0.308308</td>\n",
       "      <td>0.342961</td>\n",
       "      <td>0.315147</td>\n",
       "      <td>0.335939</td>\n",
       "      <td>0.268853</td>\n",
       "    </tr>\n",
       "    <tr>\n",
       "      <th>min</th>\n",
       "      <td>0.000000</td>\n",
       "      <td>0.000000</td>\n",
       "      <td>0.000000</td>\n",
       "      <td>0.000000</td>\n",
       "      <td>0.000000</td>\n",
       "    </tr>\n",
       "    <tr>\n",
       "      <th>25%</th>\n",
       "      <td>0.067697</td>\n",
       "      <td>0.013551</td>\n",
       "      <td>0.065051</td>\n",
       "      <td>0.020304</td>\n",
       "      <td>0.102454</td>\n",
       "    </tr>\n",
       "    <tr>\n",
       "      <th>50%</th>\n",
       "      <td>0.198779</td>\n",
       "      <td>0.058212</td>\n",
       "      <td>0.174490</td>\n",
       "      <td>0.060849</td>\n",
       "      <td>0.215239</td>\n",
       "    </tr>\n",
       "    <tr>\n",
       "      <th>75%</th>\n",
       "      <td>0.440618</td>\n",
       "      <td>0.408131</td>\n",
       "      <td>0.439031</td>\n",
       "      <td>0.412182</td>\n",
       "      <td>0.461472</td>\n",
       "    </tr>\n",
       "    <tr>\n",
       "      <th>max</th>\n",
       "      <td>1.000000</td>\n",
       "      <td>1.000000</td>\n",
       "      <td>1.000000</td>\n",
       "      <td>1.000000</td>\n",
       "      <td>1.000000</td>\n",
       "    </tr>\n",
       "  </tbody>\n",
       "</table>\n",
       "</div>"
      ],
      "text/plain": [
       "       Issue_Size  Subscription_QIB  Subscription_RII  Subscription_Total  \\\n",
       "count  319.000000        319.000000        319.000000          319.000000   \n",
       "mean     0.305854          0.253601          0.309232            0.252489   \n",
       "std      0.308308          0.342961          0.315147            0.335939   \n",
       "min      0.000000          0.000000          0.000000            0.000000   \n",
       "25%      0.067697          0.013551          0.065051            0.020304   \n",
       "50%      0.198779          0.058212          0.174490            0.060849   \n",
       "75%      0.440618          0.408131          0.439031            0.412182   \n",
       "max      1.000000          1.000000          1.000000            1.000000   \n",
       "\n",
       "       Issue_Price  \n",
       "count   319.000000  \n",
       "mean      0.311793  \n",
       "std       0.268853  \n",
       "min       0.000000  \n",
       "25%       0.102454  \n",
       "50%       0.215239  \n",
       "75%       0.461472  \n",
       "max       1.000000  "
      ]
     },
     "execution_count": 18,
     "metadata": {},
     "output_type": "execute_result"
    }
   ],
   "source": [
    "y = df.loc[:, 'Listing_Gains_Profit']\n",
    "X = df.drop('Listing_Gains_Profit', axis = 1)\n",
    "X = X / X.max()\n",
    "X.describe()"
   ]
  },
  {
   "cell_type": "markdown",
   "metadata": {},
   "source": [
    "The predictors have been normalized as can be seen above.\n",
    "### Train - Test Split\n",
    "\n",
    "**NOTE:** When running Tensorflow locally on my laptop, I got a `ValueError` that my inputs were of `float64` or so. You might have to convert your input to `float32` before feeding into the network."
   ]
  },
  {
   "cell_type": "code",
   "execution_count": 19,
   "metadata": {},
   "outputs": [
    {
     "name": "stdout",
     "output_type": "stream",
     "text": [
      "(223, 5)\n",
      "(96, 5)\n"
     ]
    }
   ],
   "source": [
    "X = X.values\n",
    "y = y.values\n",
    "\n",
    "X_train, X_test, y_train, y_test = train_test_split(X, y, test_size = 0.30, random_state = 100)\n",
    "\n",
    "X_train = np.array(X_train).astype(np.float32)\n",
    "X_test = np.array(X_test).astype(np.float32)\n",
    "y_train = np.array(y_train).astype(np.float32)\n",
    "y_test = np.array(y_test).astype(np.float32)\n",
    "\n",
    "print(X_train.shape)\n",
    "print(X_test.shape)"
   ]
  },
  {
   "cell_type": "markdown",
   "metadata": {},
   "source": [
    "### Define and train the Deep Learning Classification Model\n",
    "#### Defining the Model with the Functional API"
   ]
  },
  {
   "cell_type": "code",
   "execution_count": 20,
   "metadata": {},
   "outputs": [
    {
     "name": "stdout",
     "output_type": "stream",
     "text": [
      "Model: \"model\"\n",
      "_________________________________________________________________\n",
      " Layer (type)                Output Shape              Param #   \n",
      "=================================================================\n",
      " input_1 (InputLayer)        [(None, 5)]               0         \n",
      "                                                                 \n",
      " dense (Dense)               (None, 32)                192       \n",
      "                                                                 \n",
      " dense_1 (Dense)             (None, 16)                528       \n",
      "                                                                 \n",
      " dense_2 (Dense)             (None, 8)                 136       \n",
      "                                                                 \n",
      " dense_3 (Dense)             (None, 4)                 36        \n",
      "                                                                 \n",
      " dense_4 (Dense)             (None, 1)                 5         \n",
      "                                                                 \n",
      "=================================================================\n",
      "Total params: 897\n",
      "Trainable params: 897\n",
      "Non-trainable params: 0\n",
      "_________________________________________________________________\n"
     ]
    }
   ],
   "source": [
    "tf.random.set_seed(100)\n",
    "\n",
    "input_shape = (X_train.shape[1], )\n",
    "\n",
    "input_layer = keras.Input(shape = input_shape)\n",
    "hidden_layer1 = layers.Dense(units = 32, activation = 'relu')(input_layer)\n",
    "hidden_layer2 = layers.Dense(units = 16, activation = 'relu')(hidden_layer1)\n",
    "hidden_layer3 = layers.Dense(units = 8, activation = 'relu')(hidden_layer2)\n",
    "hidden_layer4 = layers.Dense(units = 4, activation = 'relu')(hidden_layer3)\n",
    "output_layer = layers.Dense(1, activation = 'sigmoid')(hidden_layer4)\n",
    "model = keras.Model(inputs = input_layer, outputs = output_layer)\n",
    "model.summary()"
   ]
  },
  {
   "cell_type": "markdown",
   "metadata": {},
   "source": [
    "### Compile, Fit, and Evaluate the Model\n",
    "We will use: \n",
    "* **Adam** optimizer  \n",
    "* **BinaryCrossentropy** as loss function. **BinaryCrossentropy** is used to compute the loss for a **binary classification** problem.\n",
    "* The **accuracy** evaluation metric is used to evaluate the performance of a **binary classification** model."
   ]
  },
  {
   "cell_type": "code",
   "execution_count": 21,
   "metadata": {},
   "outputs": [
    {
     "data": {
      "text/plain": [
       "<keras.callbacks.History at 0x21ab5856f70>"
      ]
     },
     "execution_count": 21,
     "metadata": {},
     "output_type": "execute_result"
    }
   ],
   "source": [
    "tf.random.set_seed(100)\n",
    "\n",
    "optimizer = keras.optimizers.Adam(learning_rate = 0.001)\n",
    "loss = keras.losses.BinaryCrossentropy()\n",
    "metrics = ['accuracy']\n",
    "epochs = 150\n",
    "\n",
    "model.compile(loss = loss, metrics = metrics, optimizer = optimizer)\n",
    "model.fit(X_train, y_train, epochs = epochs, verbose = 0)"
   ]
  },
  {
   "cell_type": "markdown",
   "metadata": {},
   "source": [
    "#### Evaluate the Model\n",
    "We will evaluate the performance of the model using `evaluate()` method."
   ]
  },
  {
   "cell_type": "code",
   "execution_count": 22,
   "metadata": {},
   "outputs": [
    {
     "name": "stdout",
     "output_type": "stream",
     "text": [
      "7/7 [==============================] - 0s 4ms/step - loss: 0.5658 - accuracy: 0.7085\n",
      "3/3 [==============================] - 0s 6ms/step - loss: 0.6252 - accuracy: 0.7292\n",
      "Train loss = 0.5658114552497864\n",
      "Train accuracy = 0.7085201740264893\n",
      "\n",
      "Test loss = 0.6252257823944092\n",
      "Test accuracy = 0.7291666865348816\n"
     ]
    }
   ],
   "source": [
    "tf.random.set_seed(100)\n",
    "\n",
    "loss_train, acc_train = model.evaluate(X_train, y_train)\n",
    "loss_test, acc_test = model.evaluate(X_test, y_test)\n",
    "\n",
    "print(f'Train loss = {loss_train}')\n",
    "print(f'Train accuracy = {acc_train}')\n",
    "print()\n",
    "print(f'Test loss = {loss_test}')\n",
    "print(f'Test accuracy = {acc_test}')"
   ]
  },
  {
   "cell_type": "markdown",
   "metadata": {},
   "source": [
    "Both loss and accuracy metrics indicate that the model is probably overfitting. The **train accuracy is `72%`** while the **test accuracy is `73%`**! Let's include **regularization**...\n",
    "\n",
    "#### Add dropout layers\n",
    "A **dropout layer** is a **regularization** technique for neural networks that helps prevent **overfitting**. The idea behind a dropout layer is to randomly **drop or switch off** some neurons. This would prevent neurons higher up from \"seeing\" what neurons below have learnt. These neurons would therefore be forced to learn their own mappings without much inputs from previous layers."
   ]
  },
  {
   "cell_type": "code",
   "execution_count": 23,
   "metadata": {},
   "outputs": [
    {
     "name": "stdout",
     "output_type": "stream",
     "text": [
      "Model: \"model_1\"\n",
      "_________________________________________________________________\n",
      " Layer (type)                Output Shape              Param #   \n",
      "=================================================================\n",
      " input_2 (InputLayer)        [(None, 5)]               0         \n",
      "                                                                 \n",
      " dense_5 (Dense)             (None, 32)                192       \n",
      "                                                                 \n",
      " dropout (Dropout)           (None, 32)                0         \n",
      "                                                                 \n",
      " dense_6 (Dense)             (None, 16)                528       \n",
      "                                                                 \n",
      " dropout_1 (Dropout)         (None, 16)                0         \n",
      "                                                                 \n",
      " dense_7 (Dense)             (None, 8)                 136       \n",
      "                                                                 \n",
      " dense_8 (Dense)             (None, 4)                 36        \n",
      "                                                                 \n",
      " dense_9 (Dense)             (None, 1)                 5         \n",
      "                                                                 \n",
      "=================================================================\n",
      "Total params: 897\n",
      "Trainable params: 897\n",
      "Non-trainable params: 0\n",
      "_________________________________________________________________\n"
     ]
    }
   ],
   "source": [
    "tf.random.set_seed(100)\n",
    "\n",
    "input_shape = (X_train.shape[1], )\n",
    "\n",
    "input_layer = keras.Input(shape = input_shape)\n",
    "hidden_layer1 = layers.Dense(units = 32, activation = 'relu')(input_layer)\n",
    "drop1 = layers.Dropout(rate = 0.20)(hidden_layer1)\n",
    "hidden_layer2 = layers.Dense(units = 16, activation = 'relu')(drop1)\n",
    "drop2 = layers.Dropout(rate = 0.20)(hidden_layer2)\n",
    "hidden_layer3 = layers.Dense(units = 8, activation = 'relu')(drop2)\n",
    "hidden_layer4 = layers.Dense(units = 4, activation = 'relu')(hidden_layer3)\n",
    "output_layer = layers.Dense(1, activation = 'sigmoid')(hidden_layer4)\n",
    "model = keras.Model(inputs = input_layer, outputs = output_layer)\n",
    "model.summary()"
   ]
  },
  {
   "cell_type": "code",
   "execution_count": 24,
   "metadata": {},
   "outputs": [
    {
     "data": {
      "text/plain": [
       "<keras.callbacks.History at 0x21ab8762400>"
      ]
     },
     "execution_count": 24,
     "metadata": {},
     "output_type": "execute_result"
    }
   ],
   "source": [
    "tf.random.set_seed(100)\n",
    "\n",
    "optimizer = keras.optimizers.Adam(learning_rate = 0.001)\n",
    "loss = keras.losses.BinaryCrossentropy()\n",
    "metrics = ['accuracy']\n",
    "epochs = 150\n",
    "\n",
    "model.compile(loss = loss, metrics = metrics, optimizer = optimizer)\n",
    "model.fit(X_train, y_train, epochs = epochs, verbose = 0)"
   ]
  },
  {
   "cell_type": "code",
   "execution_count": 25,
   "metadata": {},
   "outputs": [
    {
     "name": "stdout",
     "output_type": "stream",
     "text": [
      "7/7 [==============================] - 0s 3ms/step - loss: 0.6217 - accuracy: 0.6906\n",
      "3/3 [==============================] - 0s 3ms/step - loss: 0.6167 - accuracy: 0.7500\n",
      "Train loss = 0.621694028377533\n",
      "Train accuracy = 0.6905829310417175\n",
      "\n",
      "Test loss = 0.6166754961013794\n",
      "Test accuracy = 0.75\n"
     ]
    }
   ],
   "source": [
    "tf.random.set_seed(100)\n",
    "\n",
    "loss_train, acc_train = model.evaluate(X_train, y_train)\n",
    "loss_test, acc_test = model.evaluate(X_test, y_test)\n",
    "\n",
    "print(f'Train loss = {loss_train}')\n",
    "print(f'Train accuracy = {acc_train}')\n",
    "print()\n",
    "print(f'Test loss = {loss_test}')\n",
    "print(f'Test accuracy = {acc_test}')"
   ]
  },
  {
   "cell_type": "markdown",
   "metadata": {},
   "source": [
    "**Both training and test metrics are relatively close to each other. It seems the model without regularization performs better!**\n",
    "\n",
    "**However, a test accuracy of just `75%` is not good enough. We can continue to experiment with different ` number of hidden layers, number of neurons and dropout layers`  until we obtain a better outcome.**"
   ]
  }
 ],
 "metadata": {
  "kernelspec": {
   "display_name": "Python 3 (ipykernel)",
   "language": "python",
   "name": "python3"
  },
  "language_info": {
   "codemirror_mode": {
    "name": "ipython",
    "version": 3
   },
   "file_extension": ".py",
   "mimetype": "text/x-python",
   "name": "python",
   "nbconvert_exporter": "python",
   "pygments_lexer": "ipython3",
   "version": "3.9.17"
  }
 },
 "nbformat": 4,
 "nbformat_minor": 4
}
